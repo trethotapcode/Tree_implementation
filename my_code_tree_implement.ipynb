{
 "cells": [
  {
   "cell_type": "markdown",
   "metadata": {},
   "source": [
    "### cài đặt một Tree cơ bản"
   ]
  },
  {
   "cell_type": "code",
   "execution_count": null,
   "metadata": {},
   "outputs": [],
   "source": [
    "class Tree:\n",
    "    def __init__(self, data):\n",
    "        self.data = data\n",
    "        self.parent = None\n",
    "        self.children = []\n",
    "\n",
    "    # thêm con cho self\n",
    "    def add_child(self, child):\n",
    "        self.children.append(child)\n",
    "        child.parent = self\n",
    "    \n",
    "    def get_level(self):\n",
    "        level = 0\n",
    "        node = self.parent\n",
    "\n",
    "        while node:\n",
    "             level = level + 1\n",
    "             node  = node.parent\n",
    "\n",
    "        return level\n",
    "    \n",
    " \n",
    "    def print_tree(self):\n",
    "        \n",
    "        space = \" \" *self.get_level()*3\n",
    "        prefix = space + \"|__\" if self.parent else \"\"\n",
    "        print(prefix + self.data)\n",
    "\n",
    "        if self.children:\n",
    "            for child in self.children:\n",
    "                child.print_tree()\n"
   ]
  },
  {
   "cell_type": "markdown",
   "metadata": {},
   "source": [
    "### hiện thực cây binary"
   ]
  },
  {
   "cell_type": "code",
   "execution_count": null,
   "metadata": {},
   "outputs": [
    {
     "name": "stdout",
     "output_type": "stream",
     "text": [
      "A\n",
      "   |__B\n",
      "      |__D\n",
      "      |__E\n",
      "   |__C\n",
      "      |__F\n",
      "      |__G\n"
     ]
    }
   ],
   "source": [
    "def create():\n",
    "\n",
    "    A = Tree(\"A\")\n",
    "    B = Tree(\"B\")\n",
    "    C = Tree(\"C\")\n",
    "    D = Tree(\"D\")\n",
    "    E = Tree(\"E\")\n",
    "    F = Tree(\"F\")\n",
    "    G = Tree(\"G\")\n",
    "\n",
    "    A.add_child(B)\n",
    "    A.add_child(C)\n",
    "\n",
    "    B.add_child(D)\n",
    "    B.add_child(E)\n",
    "\n",
    "    C.add_child(F)\n",
    "    C.add_child(G)\n",
    "\n",
    "    return A\n",
    "\n",
    "tree = create()\n",
    "tree.print_tree()\n"
   ]
  }
 ],
 "metadata": {
  "kernelspec": {
   "display_name": "base",
   "language": "python",
   "name": "python3"
  },
  "language_info": {
   "codemirror_mode": {
    "name": "ipython",
    "version": 3
   },
   "file_extension": ".py",
   "mimetype": "text/x-python",
   "name": "python",
   "nbconvert_exporter": "python",
   "pygments_lexer": "ipython3",
   "version": "3.12.3"
  }
 },
 "nbformat": 4,
 "nbformat_minor": 2
}
